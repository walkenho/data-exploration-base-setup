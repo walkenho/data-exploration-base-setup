{
 "cells": [
  {
   "cell_type": "code",
   "execution_count": 1,
   "id": "d2a92832-74ab-4a28-a9ed-f02ea9e251c2",
   "metadata": {},
   "outputs": [],
   "source": [
    "# make JL show multiple outputs per cell\n",
    "from IPython.core.interactiveshell import InteractiveShell\n",
    "\n",
    "InteractiveShell.ast_node_interactivity = \"all\"\n",
    "\n",
    "# use black for formatting\n",
    "%load_ext lab_black\n",
    "\n",
    "from pathlib import Path\n",
    "import pandas as pd\n",
    "\n",
    "from pandas_flavor import register_dataframe_method\n",
    "import plotly.express as px\n",
    "\n",
    "@register_dataframe_method\n",
    "def display_fully(df) -> None:\n",
    "    \"\"\"Display all rows and columns of a df in full width\"\"\"\n",
    "    pd.set_option(\"display.max_rows\", None)\n",
    "    pd.set_option(\"display.max_columns\", None)\n",
    "    pd.set_option(\"display.width\", 2000)\n",
    "    pd.set_option(\"display.float_format\", \"{:20,.2f}\".format)\n",
    "    pd.set_option(\"display.max_colwidth\", None)\n",
    "    display(df)\n",
    "    pd.reset_option(\"display.max_rows\")\n",
    "    pd.reset_option(\"display.max_columns\")\n",
    "    pd.reset_option(\"display.width\")\n",
    "    pd.reset_option(\"display.float_format\")\n",
    "    pd.reset_option(\"display.max_colwidth\")\n",
    "    \n",
    "DATAPATH = Path().cwd().parent/'data'"
   ]
  },
  {
   "cell_type": "code",
   "execution_count": null,
   "id": "72102bd2-5e3c-4628-b41f-d5d09cf5a895",
   "metadata": {},
   "outputs": [],
   "source": []
  }
 ],
 "metadata": {
  "kernelspec": {
   "display_name": "Python 3 (ipykernel)",
   "language": "python",
   "name": "python3"
  },
  "language_info": {
   "codemirror_mode": {
    "name": "ipython",
    "version": 3
   },
   "file_extension": ".py",
   "mimetype": "text/x-python",
   "name": "python",
   "nbconvert_exporter": "python",
   "pygments_lexer": "ipython3",
   "version": "3.10.5"
  }
 },
 "nbformat": 4,
 "nbformat_minor": 5
}
